{
  "nbformat": 4,
  "nbformat_minor": 0,
  "metadata": {
    "colab": {
      "name": "Tarea3ComandaDeRestaurante.ipynb",
      "provenance": []
    },
    "kernelspec": {
      "name": "python3",
      "display_name": "Python 3"
    },
    "language_info": {
      "name": "python"
    }
  },
  "cells": [
    {
      "cell_type": "code",
      "metadata": {
        "colab": {
          "base_uri": "https://localhost:8080/"
        },
        "id": "UFknAS27mn15",
        "outputId": "06569618-c41a-43f5-92c7-f78c12cd2b5b"
      },
      "source": [
        "menu_select = { \"Mesa\" : 3, \n",
        "               \"Comensal\" : 2, \n",
        "               \"Entrada\" : \"Ensalada verde\", \n",
        "               \"Medio\" : \"crema de zanahoria\", \n",
        "               \"Fuerte\" : \"filete\", \n",
        "               \"Adicionales\" : \"Filete término medio, la ensalada sin ningun tipo de semilla, Adereso Ranch\" }\n",
        "print(\"Detalle: \", end=\"\")\n",
        "\n",
        "print( f\"\\n\\t\\tMESA: {menu_select['Mesa']}\\n\\t\\tCOMENSAL: {menu_select['Comensal']}\\n\\t\\tENTRADA: {menu_select['Entrada']}\\n\\t\\tMEDIO: {menu_select['Medio']}\\n\\t\\tFUERTE: {menu_select['Fuerte']}\\n\\t\\tADICIONALES: {menu_select['Adicionales']}\")\n"
      ],
      "execution_count": 44,
      "outputs": [
        {
          "output_type": "stream",
          "name": "stdout",
          "text": [
            "Detalle: \n",
            "\t\tMESA: 3\n",
            "\t\tCOMENSAL: 2\n",
            "\t\tENTRADA: Ensalada verde\n",
            "\t\tMEDIO: crema de zanahoria\n",
            "\t\tFUERTE: filete\n",
            "\t\tADICIONALES: Filete término medio, la ensalada sin ningun tipo de semilla, Adereso Ranch\n"
          ]
        }
      ]
    }
  ]
}